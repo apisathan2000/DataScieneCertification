{
 "cells": [
  {
   "cell_type": "markdown",
   "id": "9a057fc3",
   "metadata": {},
   "source": [
    "<h1>Data Science Tools and Ecosystem</h1>"
   ]
  },
  {
   "cell_type": "markdown",
   "id": "5c9194b4",
   "metadata": {},
   "source": [
    "In this notebook, Data Science Tools and Ecosystem are summarized."
   ]
  },
  {
   "cell_type": "markdown",
   "id": "2f0a4613",
   "metadata": {},
   "source": [
    "<b>Objectives:</b>\n",
    "<ull>\n",
    "    <li> List popular languages for Data Science </li>\n",
    "    <li> Get Familiar with Arithmetic Exprsssions </li>\n",
    "    <li> List commonly used libraries for Data Science</li>\n",
    "    <li> Convert 200 minutes to hours by dividing by 60 </li>\n",
    "</ull>"
   ]
  },
  {
   "cell_type": "markdown",
   "id": "9b9bc745",
   "metadata": {},
   "source": [
    "Some of the popular languages that Data Scientists use are:\n",
    "<ol>\n",
    "    <li> Python </li>\n",
    "    <li> R </li>\n",
    "    <li> SQL </li>\n",
    "    <li> Scala </li>\n",
    "    <li> Java </li>\n",
    "    <li> C++ </li>\n",
    "</ol>"
   ]
  },
  {
   "cell_type": "markdown",
   "id": "3b78bc29",
   "metadata": {},
   "source": [
    "Some of the commonly used libraries used by Data Scientists include:\n",
    "<ol>\n",
    "    <li> Numpy </li>\n",
    "    <li> Pandas </li>\n",
    "    <li> Matplotlib </li>\n",
    "    <li> Seaborn </li>\n",
    "    <li> TensorFlow </li>\n",
    "</ol>"
   ]
  },
  {
   "cell_type": "markdown",
   "id": "806d7e75",
   "metadata": {},
   "source": [
    "| Data Science Tools |\n",
    "|---|\n",
    "| Jupyter |\n",
    "| RStudio |\n",
    "| Apache Zeppelin |\n",
    "| Spyder |"
   ]
  },
  {
   "cell_type": "markdown",
   "id": "df956274",
   "metadata": {},
   "source": [
    "<h3>Below are a few examples of evaluating arithmetic expressions in Python</h3>"
   ]
  },
  {
   "cell_type": "code",
   "execution_count": 1,
   "id": "ca9cefc9",
   "metadata": {},
   "outputs": [
    {
     "data": {
      "text/plain": [
       "17"
      ]
     },
     "execution_count": 1,
     "metadata": {},
     "output_type": "execute_result"
    }
   ],
   "source": [
    "#This a simple arithmetic expression to mutiply then add integers\n",
    "(3*4)+5"
   ]
  },
  {
   "cell_type": "code",
   "execution_count": 2,
   "id": "3874a3ed",
   "metadata": {},
   "outputs": [
    {
     "data": {
      "text/plain": [
       "3.3333333333333335"
      ]
     },
     "execution_count": 2,
     "metadata": {},
     "output_type": "execute_result"
    }
   ],
   "source": [
    "#This will convert 200 minutes to hours by diving by 60\n",
    "200/60"
   ]
  },
  {
   "cell_type": "markdown",
   "id": "99dfa598",
   "metadata": {},
   "source": [
    "<h2>Author</h2>\n",
    "Apisathan"
   ]
  },
  {
   "cell_type": "code",
   "execution_count": null,
   "id": "e858f45f",
   "metadata": {},
   "outputs": [],
   "source": []
  }
 ],
 "metadata": {
  "kernelspec": {
   "display_name": "Python 3 (ipykernel)",
   "language": "python",
   "name": "python3"
  },
  "language_info": {
   "codemirror_mode": {
    "name": "ipython",
    "version": 3
   },
   "file_extension": ".py",
   "mimetype": "text/x-python",
   "name": "python",
   "nbconvert_exporter": "python",
   "pygments_lexer": "ipython3",
   "version": "3.9.13"
  }
 },
 "nbformat": 4,
 "nbformat_minor": 5
}
